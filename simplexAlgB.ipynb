{
 "cells": [
  {
   "cell_type": "code",
   "execution_count": 1,
   "metadata": {},
   "outputs": [],
   "source": [
    "import numpy as np \n",
    "def simplexMB(A,b,c, indB): \n",
    "  n = len(c)\n",
    "  m = len(b)  \n",
    "  iter = 0   \n",
    "  while True:  \n",
    "    indN =  [ind for ind in range(n)  if ind not in indB]    \n",
    "    matB  = A[:,indB] \n",
    "    xsol =  np.zeros((n,1))\n",
    "    xsol[indB] =  np.linalg.solve(matB,b)\n",
    "    custoR = np.zeros(n)        \n",
    "    Y = np.linalg.solve(matB,A[:,indN])\n",
    "    custoR[indN] = c[indN] - np.dot(c[indB],Y)        \n",
    "    iS =  np.argmin(custoR)      \n",
    "    if custoR[iS] < 0:\n",
    "      y = np.linalg.solve(matB,A[:,iS])        \n",
    "      delta = np.amax(y)                    \n",
    "      if delta < 0:  \n",
    "        print(\"O problema é ilimitado\")\n",
    "        break\n",
    "      else:          \n",
    "        indy = np.where(y>0)        \n",
    "        it  = np.min(indy[0]) \n",
    "        temp1 =  xsol[indB[it],0] / y[it]      \n",
    "        iR = min(indy[0])                                \n",
    "        for i in indy[0]:\n",
    "          temp2 = min(temp1, xsol[indB[i],0]/y[i])                                        \n",
    "          if temp2 <= temp1: \n",
    "            iR = i \n",
    "          temp1 = temp2                      \n",
    "        indB = set(indB).difference(set([ indB[iR]] ))        \n",
    "        indB = list(indB.union(set([iS])))        \n",
    "        iter = iter + 1        \n",
    "    else:\n",
    "      valOpt = np.dot(xsol.T,c)\n",
    "      print(\"Valor otimo: \", valOpt[0])    \n",
    "      break\n",
    "              \n",
    "    if iter > 5:    \n",
    "      print(\"Numero de iterações permitido\")\n",
    "      break \n",
    "  return [indB, xsol, valOpt] \n",
    "  "
   ]
  },
  {
   "cell_type": "code",
   "execution_count": 2,
   "metadata": {},
   "outputs": [],
   "source": [
    "\n",
    "def simplex2F(A,b,c):\n",
    "  n = len(c)\n",
    "  m = len(b)  \n",
    "  idN =  np.identity(m)  \n",
    "  matA = np.append(A,idN,axis=1)\n",
    "  vc = np.append(np.zeros(n),np.ones(m))\n",
    "  indB =[ i for i  in  range(m+1,n+m)] \n",
    "  sol = simplexMB(matA,b,vc,indB)  \n",
    "  solLP = simplexMB(A,b,c,sol[0])  \n",
    "  return solLP\n",
    "    "
   ]
  },
  {
   "cell_type": "code",
   "execution_count": 3,
   "metadata": {},
   "outputs": [
    {
     "name": "stdout",
     "output_type": "stream",
     "text": [
      "Valor otimo:  0.0\n",
      "Valor otimo:  2.1999999999999997\n",
      "Base:  [1, 2]\n",
      "Sol basica:  [[0. ]\n",
      " [0.4]\n",
      " [1.8]]\n",
      "Valor otimo:  2.1999999999999997\n"
     ]
    }
   ],
   "source": [
    "A = np.array([[2, 1, 2], \n",
    "              [3, 3, 1]])\n",
    "\n",
    "b = np.array([[4],[3]])\n",
    "c = np.array([4,1,1])\n",
    "\n",
    "sol = simplex2F(A,b,c)\n",
    "print(\"Base: \", sol[0])\n",
    "print(\"Sol basica: \", sol[1])\n",
    "print(\"Valor otimo: \", sol[2][0])\n",
    "\n",
    "\n"
   ]
  },
  {
   "cell_type": "code",
   "execution_count": null,
   "metadata": {},
   "outputs": [],
   "source": []
  }
 ],
 "metadata": {
  "kernelspec": {
   "display_name": "Python 3",
   "language": "python",
   "name": "python3"
  },
  "language_info": {
   "codemirror_mode": {
    "name": "ipython",
    "version": 3
   },
   "file_extension": ".py",
   "mimetype": "text/x-python",
   "name": "python",
   "nbconvert_exporter": "python",
   "pygments_lexer": "ipython3",
   "version": "3.8.10"
  }
 },
 "nbformat": 4,
 "nbformat_minor": 4
}
